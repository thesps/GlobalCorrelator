{
 "cells": [
  {
   "cell_type": "code",
   "execution_count": null,
   "metadata": {},
   "outputs": [],
   "source": [
    "from util import *"
   ]
  },
  {
   "cell_type": "code",
   "execution_count": null,
   "metadata": {},
   "outputs": [],
   "source": [
    "big_run=False"
   ]
  },
  {
   "cell_type": "markdown",
   "metadata": {},
   "source": [
    "## Read the ntuple"
   ]
  },
  {
   "cell_type": "code",
   "execution_count": null,
   "metadata": {},
   "outputs": [],
   "source": [
    "if big_run:\n",
    "    d = uproot.open('/home/sioni/Work/corrl2-jet-multi/src/GlobalCorrelator/emp_examples/Layer2/testbench/jet/data/debugPF_TTbar_PU200.110X_v2.root')['Events']\n",
    "else:\n",
    "    d = uproot.open('/home/sioni/Work/corrl2-jet-multi/src/GlobalCorrelator/emp_examples/Layer2/testbench/jet/data/debugPF_TTbar_PU200.110X_v2_job1.root')['Events']\n",
    "\n",
    "pups, jets = pups_and_jets(d)\n",
    "pups_e, jets_e = pups_and_jets(d, True)\n",
    "\n",
    "regions = DemoRegions()"
   ]
  },
  {
   "cell_type": "markdown",
   "metadata": {},
   "source": [
    "## Write an emp-fwk pattern file & run sim"
   ]
  },
  {
   "cell_type": "code",
   "execution_count": null,
   "metadata": {},
   "outputs": [],
   "source": [
    "if big_run:\n",
    "    N = int(np.ceil(len(pups)/1000))\n",
    "    for I in range(N):\n",
    "        print(I)\n",
    "        l = I*1000\n",
    "        h = (I+1)*1000 if I < N-1 else -1\n",
    "        write_and_run(pups[l:h], regions, 300)\n",
    "        copyfile('/home/sioni/Work/corrl2-jet-multi/proj/jet-test/Jets.txt', '/home/sioni/Work/corrl2-jet-multi/src/GlobalCorrelator/emp_examples/Layer2/testbench/jet/data/Jets-{}.txt'.format(I))\n",
    "        copyfile('/home/sioni/Work/corrl2-jet-multi/proj/jet-test/Regionizer-EventParticles.txt', '/home/sioni/Work/corrl2-jet-multi/src/GlobalCorrelator/emp_examples/Layer2/testbench/jet/data/Regionizer-EventParticles-{}.txt'.format(I))\n",
    "else:\n",
    "    write_and_run(pups, regions, 100)"
   ]
  },
  {
   "cell_type": "code",
   "execution_count": null,
   "metadata": {},
   "outputs": [],
   "source": [
    "write_pattern_file(pups[:1], regions, mux=True, link_map=None, apx=True) #regions.link_map())"
   ]
  },
  {
   "cell_type": "markdown",
   "metadata": {},
   "source": [
    "## Write an HLS simulation input file"
   ]
  },
  {
   "cell_type": "code",
   "execution_count": null,
   "metadata": {},
   "outputs": [],
   "source": [
    "f = open('source_hr.txt', 'w')\n",
    "for i in range(0,3):\n",
    "    write_event_hr(f, pups[i], jets_e[i])\n",
    "#write_event_hr(f, pups_msim[0], jets[0])\n",
    "f.close()"
   ]
  },
  {
   "cell_type": "markdown",
   "metadata": {},
   "source": [
    "## Debug space"
   ]
  },
  {
   "cell_type": "markdown",
   "metadata": {},
   "source": [
    "### Check the writer"
   ]
  },
  {
   "cell_type": "code",
   "execution_count": null,
   "metadata": {},
   "outputs": [],
   "source": [
    "pups_muxed = list(regions.pack_event_mux(pups[16], 0, True))\n",
    "pups_muxed_v = [pup.toVHex(True) for frame in pups_muxed for pup in frame]\n",
    "pups_muxed_flat = [pup for frame in pups_muxed for pup in frame if pup.pt > 0]\n",
    "print(len(pups_muxed_flat))\n",
    "print(len(pups[16]))"
   ]
  },
  {
   "cell_type": "code",
   "execution_count": null,
   "metadata": {},
   "outputs": [],
   "source": [
    "pups_muxed[14]"
   ]
  },
  {
   "cell_type": "code",
   "execution_count": null,
   "metadata": {},
   "outputs": [],
   "source": [
    "for i, frame in enumerate(pups_muxed):\n",
    "    for j, pup in enumerate(frame):\n",
    "        if pup.pt == 3.75:\n",
    "            print(pup.toVHex(True), i, j)"
   ]
  },
  {
   "cell_type": "markdown",
   "metadata": {},
   "source": [
    "### Check the deregionizer"
   ]
  },
  {
   "cell_type": "code",
   "execution_count": null,
   "metadata": {},
   "outputs": [],
   "source": [
    "def get_clocks(regionparticles):\n",
    "    # Get the clock cycles on which to query deregionizer output\n",
    "    clocks = []\n",
    "    prevclock = regionparticles.Clock.unique()[0]\n",
    "    for clock in regionparticles.Clock.unique():\n",
    "        if clock - prevclock > 1:\n",
    "            clocks.append(prevclock)\n",
    "        prevclock = clock\n",
    "    return clocks\n",
    "\n",
    "def get_pups_at_clock(regionparticles, clock):\n",
    "    rp = regionparticles[regionparticles.Clock == clock]\n",
    "    return [PuppiCand(pt/4,eta/100,phi/100) for (pt,eta,phi) in zip(rp.pt, rp.eta, rp.phi)]\n",
    "\n",
    "def get_deregionizer(regionparticles, clock=None):\n",
    "    if clock is not None or len(regionparticles.Clock.unique()) == 1:\n",
    "        return get_pups_at_clock(regionparticles, clock)\n",
    "    else:\n",
    "        pups = []\n",
    "        for clock in get_clocks(regionparticles):\n",
    "            pups.append(get_pups_at_clock(regionparticles, clock))\n",
    "        return pups\n",
    "\n",
    "regionizer_in = pandas.read_csv('../../../../../../proj/jet-test/Regionizer-Inputs.txt', skiprows=1, delim_whitespace=True)\n",
    "pups_in = [PuppiCand(pt/4,eta/100,phi/100) for (pt,eta,phi) in zip(regionizer_in.pt, regionizer_in.eta, regionizer_in.phi)]\n",
    "\n",
    "regionparticles = pandas.read_csv('../../../../../../proj/jet-test/Regionizer-EventParticles.txt', skiprows=1, delim_whitespace=True)\n",
    "\n",
    "pups_msim = get_deregionizer(regionparticles)\n",
    "pups_r = [regions.fiducial(pups_ev) for pups_ev in pups]\n",
    "pups_in = [[p for re in regions.regionize(ev, truncate=16) for rp in re for p in rp] for ev in pups]"
   ]
  },
  {
   "cell_type": "code",
   "execution_count": null,
   "metadata": {},
   "outputs": [],
   "source": [
    "print(np.all([np.all([pup in pups_msim[i] for pup in pups_in[i]]) for i in range(len(pups_msim))]))\n",
    "missing = np.array([(i, np.argwhere([not pup in pups_msim[i] for pup in pups_in[i]])) for i in range(len(pups_msim))])"
   ]
  },
  {
   "cell_type": "code",
   "execution_count": null,
   "metadata": {},
   "outputs": [],
   "source": [
    "i = 0\n",
    "print(len(pups_msim[i]), len(pups[i]))"
   ]
  },
  {
   "cell_type": "code",
   "execution_count": null,
   "metadata": {},
   "outputs": [],
   "source": [
    "pups_msim[0]"
   ]
  },
  {
   "cell_type": "code",
   "execution_count": null,
   "metadata": {},
   "outputs": [],
   "source": [
    "ev = regions.regionize(pups[i])\n",
    "for i in range(len(ev)):\n",
    "    for j in range(len(ev[i])):\n",
    "        for k in range(len(ev[i][j])):\n",
    "            if ev[i][j][k].pt == 42.0:\n",
    "                print(i, j, ev[i][j][k])\n",
    "                print(i, j, ev[i][j][k].toVHex(True))"
   ]
  },
  {
   "cell_type": "code",
   "execution_count": null,
   "metadata": {},
   "outputs": [],
   "source": [
    "a = [p for p in sorted(pups_msim[i], reverse=True, key=lambda x : x.pt)]\n",
    "b = [p for p in sorted(pups[i], reverse=True, key=lambda x : x.pt)]\n",
    "b = [PuppiCand(p.pt, np.floor(p.eta*100)/100, np.floor(p.phi*100)/100) for p in b]\n",
    "for j in range(len(pups[i])):\n",
    "    print(a[j], b[j])"
   ]
  },
  {
   "cell_type": "markdown",
   "metadata": {},
   "source": [
    "### Check the jets"
   ]
  },
  {
   "cell_type": "code",
   "execution_count": null,
   "metadata": {},
   "outputs": [],
   "source": [
    "if big_run:\n",
    "    N = int(np.ceil(len(pups)/1000))\n",
    "    for i in range(N):\n",
    "        d = pandas.read_csv('data/Jets-{}.txt'.format(i), skiprows=1, delim_whitespace=True)\n",
    "        if i == 0:\n",
    "            jets_p = d\n",
    "        else:\n",
    "            jets_p = jets_p.append(d, ignore_index=True)\n",
    "else:\n",
    "    jets_p = pandas.read_csv('../../../../../../proj/jet-test/Jets.txt', skiprows=1, delim_whitespace=True)"
   ]
  },
  {
   "cell_type": "code",
   "execution_count": null,
   "metadata": {},
   "outputs": [],
   "source": [
    "jets_msim = []\n",
    "if big_run:\n",
    "    # Since each 1000 events is a different file, there is some duplication of the clock cycle on which the jets appear\n",
    "    # Slice 10 jets each time (i in the outer loop means extract all jets from 1 file, then go to next file)\n",
    "    N = int(np.ceil(len(pups)/1000))\n",
    "    for i in range(N): \n",
    "        for c in jets_p.Clock.unique():\n",
    "            j = jets_p[jets_p.Clock == c]\n",
    "            jets_msim.append([Jet(pt/4,eta/100,phi/100) for (pt,eta,phi) in list(zip(j.pt, j.eta, j.phi))[10*i:10*(i+1)] if pt>0])    \n",
    "    jets_msim = jets_msim[0:len(jets_e)]\n",
    "else:\n",
    "    for c in jets_p.Clock.unique():\n",
    "        j = jets_p[jets_p.Clock == c]\n",
    "        jets_msim.append([Jet(pt/4,eta/100,phi/100) for (pt,eta,phi) in zip(j.pt, j.eta, j.phi) if pt>0])"
   ]
  },
  {
   "cell_type": "markdown",
   "metadata": {},
   "source": [
    "## Load the hardware data!"
   ]
  },
  {
   "cell_type": "code",
   "execution_count": null,
   "metadata": {},
   "outputs": [],
   "source": [
    "pt = np.load('hw-data/pt.npy', allow_pickle=True)\n",
    "eta = np.load('hw-data/eta.npy', allow_pickle=True)\n",
    "phi = np.load('hw-data/phi.npy', allow_pickle=True)\n",
    "jets_hw = Jet.fromUproot(pt, eta, phi, 5, doround=False)\n",
    "jets_e = jets_e[:len(jets_hw)]\n",
    "jets = jets[:len(jets_hw)]\n",
    "jets_msim = jets_hw"
   ]
  },
  {
   "cell_type": "code",
   "execution_count": null,
   "metadata": {},
   "outputs": [],
   "source": [
    "len(jets_hw)"
   ]
  },
  {
   "cell_type": "code",
   "execution_count": null,
   "metadata": {},
   "outputs": [],
   "source": [
    "i = 0\n",
    "print(\"MSIM\")\n",
    "for j in jets_msim[i]:\n",
    "    print(j)\n",
    "print(\"Emulator\")\n",
    "for j in jets_e[i]:\n",
    "    print(j)\n",
    "print(\"CMSSW\")\n",
    "for j in jets[i]:\n",
    "    print(j)"
   ]
  },
  {
   "cell_type": "markdown",
   "metadata": {},
   "source": [
    "## Some plots"
   ]
  },
  {
   "cell_type": "code",
   "execution_count": null,
   "metadata": {},
   "outputs": [],
   "source": [
    "sim_pt = [j.pt for ev in jets_msim for j in ev]\n",
    "sim_eta = [j.eta for ev in jets_msim for j in ev]\n",
    "sim_phi = [j.phi for ev in jets_msim for j in ev]\n",
    "emu_pt = [j.pt for ev in jets_e[:len(jets_msim)] for j in ev]\n",
    "emu_eta = [j.eta for ev in jets_e[:len(jets_msim)] for j in ev]\n",
    "emu_phi = [j.phi for ev in jets_e[:len(jets_msim)] for j in ev]\n",
    "flo_pt = [j.pt for ev in jets[:len(jets_msim)] for j in ev]\n",
    "flo_eta = [j.eta for ev in jets[:len(jets_msim)] for j in ev]\n",
    "flo_phi = [j.phi for ev in jets[:len(jets_msim)] for j in ev]"
   ]
  },
  {
   "cell_type": "code",
   "execution_count": null,
   "metadata": {},
   "outputs": [],
   "source": [
    "pt_lim = max(max(sim_pt), max(emu_pt))\n",
    "bins = np.linspace(0, pt_lim, 75)\n",
    "w = bins[1] - bins[0]\n",
    "h_sim, b = np.histogram(sim_pt, bins=bins)\n",
    "h_emu, b = np.histogram(emu_pt, bins=bins)\n",
    "h_flo, b = np.histogram(flo_pt, bins=bins)\n",
    "plt.bar(bins[:-1]+w/2, h_emu, width=w, label='CMSSW Emulator', alpha=0.5)\n",
    "plt.bar(bins[:-1]+w/2, h_flo, width=w, label='CMSSW float', alpha=0.5)\n",
    "plt.bar(bins[:-1]+w/2, h_sim, width=w, label='FW Modelsim', alpha=0.5)\n",
    "plt.semilogy()\n",
    "plt.xlabel('pT / GeV')\n",
    "plt.ylabel('N jets')\n",
    "plt.xlim((0, pt_lim))\n",
    "plt.legend()\n",
    "plt.savefig('pt.pdf')"
   ]
  },
  {
   "cell_type": "code",
   "execution_count": null,
   "metadata": {},
   "outputs": [],
   "source": [
    "bins = np.linspace(-3.14, 3.14, 50)\n",
    "w = bins[1] - bins[0]\n",
    "h_sim, b = np.histogram(sim_phi, bins=bins)\n",
    "h_emu, b = np.histogram(emu_phi, bins=bins)\n",
    "h_flo, b = np.histogram(flo_phi, bins=bins)\n",
    "plt.bar(bins[:-1]+w/2, h_flo, width=w, label='CMSSW float', alpha=0.5)\n",
    "plt.bar(bins[:-1]+w/2, h_emu, width=w, label='CMSSW emulator', alpha=0.5)\n",
    "plt.bar(bins[:-1]+w/2, h_sim, width=w, label='FW Modelsim', alpha=0.5)\n",
    "plt.semilogy()\n",
    "plt.xlabel('phi')\n",
    "plt.ylabel('N jets')\n",
    "plt.xlim((-3.14, 3.14))\n",
    "plt.ylim((1, max(h_sim)*1.5))\n",
    "plt.legend()\n",
    "plt.savefig('phi.pdf')"
   ]
  },
  {
   "cell_type": "code",
   "execution_count": null,
   "metadata": {},
   "outputs": [],
   "source": [
    "bins = np.linspace(-5, 5, 50)\n",
    "w = bins[1] - bins[0]\n",
    "h_sim, b = np.histogram(sim_eta, bins=bins)\n",
    "h_emu, b = np.histogram(emu_eta, bins=bins)\n",
    "h_flo, b = np.histogram(flo_eta, bins=bins)\n",
    "plt.bar(bins[:-1]+w/2, h_flo, width=w, label='CMSSW float', alpha=0.5)\n",
    "plt.bar(bins[:-1]+w/2, h_emu, width=w, label='CMSSW emulator', alpha=0.5)\n",
    "plt.bar(bins[:-1]+w/2, h_sim, width=w, label='FW Modelsim', alpha=0.5)\n",
    "plt.semilogy()\n",
    "plt.xlabel('eta')\n",
    "plt.ylabel('N jets')\n",
    "plt.xlim((-3.5, 3.5))\n",
    "plt.legend()\n",
    "plt.savefig('eta.pdf')"
   ]
  },
  {
   "cell_type": "markdown",
   "metadata": {},
   "source": [
    "## Evaluate the difference between jets"
   ]
  },
  {
   "cell_type": "code",
   "execution_count": null,
   "metadata": {},
   "outputs": [],
   "source": [
    "djets = []\n",
    "matched = []\n",
    "perfect_matched = []\n",
    "fakes = []\n",
    "drmin = 0.1\n",
    "\n",
    "for i, jets_msimi in enumerate(jets_msim):\n",
    "    jetsi = jets_e[i]\n",
    "    matchedi = np.zeros(len(jetsi), dtype=bool)\n",
    "    pmatchedi = np.zeros(len(jetsi), dtype=bool)\n",
    "    for jet in jets_msimi:\n",
    "        djetsi = []\n",
    "        dphi = np.array([jet.phi - j.phi for j in jetsi])\n",
    "        dphi = (dphi + np.pi) % (2 * np.pi) - np.pi\n",
    "        deta = np.array([jet.eta - j.eta for j in jetsi])\n",
    "        dr = np.sqrt(dphi**2 + deta**2)\n",
    "        iclosest = np.argmin(dr)\n",
    "        if dr[iclosest] <= drmin:\n",
    "            jet_closest = jetsi[iclosest]\n",
    "            dpt = jet.pt - jet_closest.pt\n",
    "            if np.abs(dpt) / jet.pt <= 0.2:\n",
    "                jet.dpt = dpt\n",
    "                jet.deta = deta[iclosest]\n",
    "                jet.dphi = dphi[iclosest]\n",
    "                djets.append(jet)\n",
    "                matchedi[iclosest] = True\n",
    "        if np.isin(jet,jetsi):\n",
    "            pmatchedi[iclosest] = True\n",
    "        else:\n",
    "            fakes.append(jet)\n",
    "    matched.append(matchedi)\n",
    "    perfect_matched.append(pmatchedi)\n",
    "djets = np.array(djets)"
   ]
  },
  {
   "cell_type": "code",
   "execution_count": null,
   "metadata": {},
   "outputs": [],
   "source": [
    "dpt = np.array([j.dpt for j in djets])\n",
    "pt = np.array([j.pt for j in djets])\n",
    "dpt_lim = max(np.abs(dpt))\n",
    "pt_lim = max(np.abs(pt))\n",
    "\n",
    "bins_dpt = np.linspace(-dpt_lim, dpt_lim, 50)\n",
    "bins_pt = np.linspace(0, pt_lim, 50)\n",
    "#bins=np.meshgrid(bins_pt, bins_dpt)\n",
    "#w = bins[1] - bins[0]\n",
    "h, bpt, bdpt = np.histogram2d(dpt, pt, bins=[bins_dpt, bins_pt])\n",
    "h = np.flip(h, 0)\n",
    "ax = plt.imshow(h, extent=[bins_pt[0], bins_pt[-1], bins_dpt[0], bins_dpt[-1]],\n",
    "           norm=colors.LogNorm(vmin=1, vmax=h.max()),\n",
    "           aspect='auto')\n",
    "plt.colorbar()\n",
    "plt.xlabel('pT / GeV')\n",
    "plt.ylabel('FW - CMSSW pT / GeV')\n",
    "plt.savefig('dpt.pdf')"
   ]
  },
  {
   "cell_type": "code",
   "execution_count": null,
   "metadata": {},
   "outputs": [],
   "source": [
    "deta = np.array([j.deta for j in djets])\n",
    "eta_lim = max(np.abs(deta))\n",
    "bins = np.linspace(-eta_lim, eta_lim, 50)\n",
    "w = bins[1] - bins[0]\n",
    "h, b = np.histogram(deta, bins=bins)\n",
    "plt.bar(bins[:-1]+w/2, h, width=w, label='delta eta (FW-CMSSW)', alpha=0.5)\n",
    "plt.semilogy()\n",
    "plt.xlabel('eta')\n",
    "plt.ylabel('N jets')\n",
    "plt.xlim((-eta_lim, eta_lim))\n",
    "plt.legend()\n",
    "plt.savefig('deta.pdf')"
   ]
  },
  {
   "cell_type": "code",
   "execution_count": null,
   "metadata": {
    "scrolled": true
   },
   "outputs": [],
   "source": [
    "dphi = np.array([j.dphi for j in djets])\n",
    "phi_lim = max(np.abs(dphi))\n",
    "bins = np.linspace(-phi_lim, phi_lim, 50)\n",
    "w = bins[1] - bins[0]\n",
    "h, b = np.histogram(dphi, bins=bins)\n",
    "plt.bar(bins[:-1]+w/2, h, width=w, label='delta phi (FW-CMSSW)', alpha=0.5)\n",
    "plt.semilogy()\n",
    "plt.xlabel('phi')\n",
    "plt.ylabel('N jets')\n",
    "plt.xlim((-phi_lim, phi_lim))\n",
    "plt.legend()\n",
    "plt.savefig('dphi.pdf')"
   ]
  },
  {
   "cell_type": "markdown",
   "metadata": {},
   "source": [
    "## Unmatched jets"
   ]
  },
  {
   "cell_type": "code",
   "execution_count": null,
   "metadata": {},
   "outputs": [],
   "source": [
    "#sim_jets = np.array([j for ji in jets[:20000] for j in ji])\n",
    "#jet_event_idx = np.array([i for i in range(20000) for j in jets[i]])\n",
    "matched = np.array([m for mi in matched for m in mi ])\n",
    "perfect_matched = np.array([m for mi in perfect_matched for m in mi ])\n",
    "sim_jets = np.array([j for ji in jets_e for j in ji])\n",
    "jet_event_idx = np.array([i for i in range(len(jets_e)) for j in jets_e[i]])\n",
    "jets_unmatched = sim_jets[~perfect_matched]\n",
    "jet_unm_event_idx = jet_event_idx[~matched]\n",
    "jet_unpm_event_idx = jet_event_idx[~perfect_matched]\n",
    "pt = [j.pt for j in jets_unmatched]\n",
    "eta = [j.eta for j in jets_unmatched]\n",
    "phi = [j.phi for j in jets_unmatched]"
   ]
  },
  {
   "cell_type": "code",
   "execution_count": null,
   "metadata": {},
   "outputs": [],
   "source": [
    "print(float(sum(matched)) / len(matched))\n",
    "print(float(sum(perfect_matched)) / len(perfect_matched))"
   ]
  },
  {
   "cell_type": "code",
   "execution_count": null,
   "metadata": {},
   "outputs": [],
   "source": [
    "pt_lim = max(pt)\n",
    "bins = np.linspace(0, pt_lim, 75)\n",
    "w = bins[1] - bins[0]\n",
    "h, b = np.histogram(pt, bins=bins)\n",
    "plt.bar(bins[:-1]+w/2, h, width=w, label='CMSSW float', alpha=0.5)\n",
    "plt.semilogy()\n",
    "plt.xlabel('pT / GeV')\n",
    "plt.ylabel('N jets')\n",
    "plt.xlim((0, pt_lim))\n",
    "plt.legend()\n",
    "plt.savefig('pt_um.pdf')"
   ]
  },
  {
   "cell_type": "code",
   "execution_count": null,
   "metadata": {},
   "outputs": [],
   "source": [
    "bins = np.linspace(-5, 5, 50)\n",
    "w = bins[1] - bins[0]\n",
    "h, b = np.histogram(eta, bins=bins)\n",
    "plt.bar(bins[:-1]+w/2, h, width=w, label='CMSSW float', alpha=0.5)\n",
    "plt.semilogy()\n",
    "plt.xlabel('eta')\n",
    "plt.ylabel('N jets')\n",
    "plt.xlim((-3.5, 3.5))\n",
    "plt.legend()\n",
    "plt.savefig('eta_um.pdf')"
   ]
  },
  {
   "cell_type": "code",
   "execution_count": null,
   "metadata": {},
   "outputs": [],
   "source": [
    "bins = np.linspace(-3.14, 3.14, 50)\n",
    "w = bins[1] - bins[0]\n",
    "h, b = np.histogram(phi, bins=bins)\n",
    "plt.bar(bins[:-1]+w/2, h, width=w, label='CMSSW float', alpha=0.5)\n",
    "plt.semilogy()\n",
    "plt.xlabel('phi')\n",
    "plt.ylabel('N jets')\n",
    "plt.xlim((-3.14, 3.14))\n",
    "plt.legend()\n",
    "plt.savefig('phi_um.pdf')"
   ]
  },
  {
   "cell_type": "markdown",
   "metadata": {},
   "source": [
    "## More debugging"
   ]
  },
  {
   "cell_type": "code",
   "execution_count": null,
   "metadata": {},
   "outputs": [],
   "source": [
    "i = 2\n",
    "j = jet_unpm_event_idx[i]\n",
    "print(j)\n",
    "print(len(pups[j]))"
   ]
  },
  {
   "cell_type": "code",
   "execution_count": null,
   "metadata": {},
   "outputs": [],
   "source": [
    "jets_msim[j]"
   ]
  },
  {
   "cell_type": "code",
   "execution_count": null,
   "metadata": {
    "scrolled": true
   },
   "outputs": [],
   "source": [
    "jets_e[j]"
   ]
  },
  {
   "cell_type": "code",
   "execution_count": null,
   "metadata": {},
   "outputs": [],
   "source": [
    "[jet.pt*4 for jet in jets_e[j]]"
   ]
  },
  {
   "cell_type": "code",
   "execution_count": null,
   "metadata": {},
   "outputs": [],
   "source": [
    "len(pups) / 25"
   ]
  },
  {
   "cell_type": "code",
   "execution_count": null,
   "metadata": {},
   "outputs": [],
   "source": []
  }
 ],
 "metadata": {
  "kernelspec": {
   "display_name": "Python 3",
   "language": "python",
   "name": "python3"
  },
  "language_info": {
   "codemirror_mode": {
    "name": "ipython",
    "version": 3
   },
   "file_extension": ".py",
   "mimetype": "text/x-python",
   "name": "python",
   "nbconvert_exporter": "python",
   "pygments_lexer": "ipython3",
   "version": "3.6.10"
  }
 },
 "nbformat": 4,
 "nbformat_minor": 4
}
